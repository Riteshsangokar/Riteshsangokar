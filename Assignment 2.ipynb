{
 "cells": [
  {
   "cell_type": "code",
   "execution_count": 1,
   "id": "92137014-c55f-4ef2-9730-bb2ee1061553",
   "metadata": {},
   "outputs": [],
   "source": [
    "# Q1"
   ]
  },
  {
   "cell_type": "code",
   "execution_count": 2,
   "id": "68501ecb-f916-4372-94e9-0500a941a67d",
   "metadata": {},
   "outputs": [],
   "source": [
    "#Single-line comments: To add a single-line comment, use the # symbol. Anything written after the # on the same line will be considered a comment."
   ]
  },
  {
   "cell_type": "code",
   "execution_count": 3,
   "id": "00f7cd86-af78-4636-9893-680d3d8e2189",
   "metadata": {},
   "outputs": [],
   "source": [
    "# This is a single-line comment"
   ]
  },
  {
   "cell_type": "code",
   "execution_count": 4,
   "id": "96ed8342-f2b5-4562-881e-1e0b8664042e",
   "metadata": {},
   "outputs": [],
   "source": [
    "#Multi-line comments (Docstrings): To add multi-line comments, also known as docstrings, you enclose the text between triple quotes (''' or \"\"\"). Docstrings are often used to provide documentation for functions, classes, and modules."
   ]
  },
  {
   "cell_type": "code",
   "execution_count": 5,
   "id": "a2d50ffd-6133-4a85-8b8b-2b036502af1b",
   "metadata": {},
   "outputs": [
    {
     "data": {
      "text/plain": [
       "'\\nThis is a multi-line comment or docstring.\\nIt can span multiple lines and is typically used for documentation purposes.\\n'"
      ]
     },
     "execution_count": 5,
     "metadata": {},
     "output_type": "execute_result"
    }
   ],
   "source": [
    "'''\n",
    "This is a multi-line comment or docstring.\n",
    "It can span multiple lines and is typically used for documentation purposes.\n",
    "'''"
   ]
  },
  {
   "cell_type": "code",
   "execution_count": null,
   "id": "793633da-e469-4c72-9c99-3493ff8ca30a",
   "metadata": {},
   "outputs": [],
   "source": []
  },
  {
   "cell_type": "code",
   "execution_count": 6,
   "id": "1e1c53b9-9a39-4824-8181-a381e37f57e4",
   "metadata": {},
   "outputs": [],
   "source": [
    "#Q2"
   ]
  },
  {
   "cell_type": "code",
   "execution_count": 7,
   "id": "2a8f3e5d-8b28-4f37-96da-292e8962b093",
   "metadata": {},
   "outputs": [],
   "source": [
    "#In Python, variables are used to store data or values in memory."
   ]
  },
  {
   "cell_type": "code",
   "execution_count": 8,
   "id": "20787c31-9a8c-4639-b5da-ad76f9c335db",
   "metadata": {},
   "outputs": [],
   "source": [
    "#To declare and assign values to variables in Python, you simply use the assignment operator (=). "
   ]
  },
  {
   "cell_type": "code",
   "execution_count": null,
   "id": "5a375b32-8888-4974-a1a3-0d758a772f10",
   "metadata": {},
   "outputs": [],
   "source": []
  },
  {
   "cell_type": "code",
   "execution_count": 11,
   "id": "785ce0e5-3231-496c-8fd6-ff9eeef0c481",
   "metadata": {},
   "outputs": [],
   "source": [
    "variable_name = \"ram ram\""
   ]
  },
  {
   "cell_type": "code",
   "execution_count": 12,
   "id": "8cbcbc2d-c37e-4005-b3da-bdbc7e61c15c",
   "metadata": {},
   "outputs": [],
   "source": [
    "#Examples:"
   ]
  },
  {
   "cell_type": "code",
   "execution_count": 13,
   "id": "93f7d783-d5e9-455c-83c2-b89e87d8cf38",
   "metadata": {},
   "outputs": [],
   "source": [
    "a = 9\n"
   ]
  },
  {
   "cell_type": "code",
   "execution_count": 39,
   "id": "123a7b15-40ba-4806-8a13-36aab408d72b",
   "metadata": {},
   "outputs": [],
   "source": [
    "b = \"shrikrusna\""
   ]
  },
  {
   "cell_type": "code",
   "execution_count": null,
   "id": "208cc2bc-0673-4c6a-a95e-7bbcdabc28b0",
   "metadata": {},
   "outputs": [],
   "source": []
  },
  {
   "cell_type": "code",
   "execution_count": 18,
   "id": "317e3b53-f7c5-4fa1-8cf8-9e3c06bf205f",
   "metadata": {},
   "outputs": [],
   "source": [
    "#Q3"
   ]
  },
  {
   "cell_type": "code",
   "execution_count": 19,
   "id": "7ea05a63-5480-4479-b433-6ba34a917ab5",
   "metadata": {},
   "outputs": [],
   "source": [
    "#Python provides built-in functions to convert between different data types. Here are some common methods for type conversion:"
   ]
  },
  {
   "cell_type": "code",
   "execution_count": 20,
   "id": "39db3683-fb6e-4f50-8cc1-d79a4839b054",
   "metadata": {},
   "outputs": [],
   "source": [
    "#int(): This function is used to convert a value to an integer data type."
   ]
  },
  {
   "cell_type": "code",
   "execution_count": 5,
   "id": "59ff3f7c-648b-4c52-b138-3c394e69d623",
   "metadata": {},
   "outputs": [],
   "source": [
    "x = 1.5"
   ]
  },
  {
   "cell_type": "code",
   "execution_count": 6,
   "id": "371d5be0-752c-4a3e-9a3d-f328b1ec75d8",
   "metadata": {},
   "outputs": [],
   "source": [
    "y = int(x)"
   ]
  },
  {
   "cell_type": "code",
   "execution_count": 7,
   "id": "261a3145-238e-4353-a2a3-fe2f04a4f312",
   "metadata": {},
   "outputs": [
    {
     "name": "stdout",
     "output_type": "stream",
     "text": [
      "1\n"
     ]
    }
   ],
   "source": [
    "print(y)"
   ]
  },
  {
   "cell_type": "code",
   "execution_count": 8,
   "id": "3a72fd04-1fb4-48d1-961a-b4d15500b617",
   "metadata": {},
   "outputs": [
    {
     "data": {
      "text/plain": [
       "int"
      ]
     },
     "execution_count": 8,
     "metadata": {},
     "output_type": "execute_result"
    }
   ],
   "source": [
    "type(y)"
   ]
  },
  {
   "cell_type": "code",
   "execution_count": 9,
   "id": "9a3ec6d4-24b9-4148-9cff-890a45096246",
   "metadata": {},
   "outputs": [],
   "source": [
    "#float() : this function is used to convert values to an float number"
   ]
  },
  {
   "cell_type": "code",
   "execution_count": 10,
   "id": "b3b2da14-e246-4b2e-854f-f221948665a2",
   "metadata": {},
   "outputs": [],
   "source": [
    "x = 4"
   ]
  },
  {
   "cell_type": "code",
   "execution_count": 11,
   "id": "0190a1ac-7975-4c50-86d3-5b45e70ac80a",
   "metadata": {},
   "outputs": [],
   "source": [
    "y = float(x)"
   ]
  },
  {
   "cell_type": "code",
   "execution_count": 12,
   "id": "754c8761-3020-4c40-93a9-7ba50f1fc3a2",
   "metadata": {},
   "outputs": [
    {
     "name": "stdout",
     "output_type": "stream",
     "text": [
      "4.0\n"
     ]
    }
   ],
   "source": [
    "print(y)"
   ]
  },
  {
   "cell_type": "code",
   "execution_count": 13,
   "id": "ebc751d9-bba7-4df8-a26b-74bb8441353d",
   "metadata": {},
   "outputs": [
    {
     "data": {
      "text/plain": [
       "float"
      ]
     },
     "execution_count": 13,
     "metadata": {},
     "output_type": "execute_result"
    }
   ],
   "source": [
    "type(y)"
   ]
  },
  {
   "cell_type": "code",
   "execution_count": null,
   "id": "0833bfdb-15c3-4068-8f59-b5703c970024",
   "metadata": {},
   "outputs": [],
   "source": []
  },
  {
   "cell_type": "code",
   "execution_count": 14,
   "id": "f59fcf6b-cf78-4e32-b23c-d1a9529181f9",
   "metadata": {},
   "outputs": [],
   "source": [
    "#str(): this function is used to covert datatype int string"
   ]
  },
  {
   "cell_type": "code",
   "execution_count": 15,
   "id": "3e47d16c-56d4-4871-b3a4-f35505899faa",
   "metadata": {},
   "outputs": [],
   "source": [
    "x = 9"
   ]
  },
  {
   "cell_type": "code",
   "execution_count": 16,
   "id": "6e4dbfba-ee81-4d74-8199-cd9fc5363d00",
   "metadata": {},
   "outputs": [],
   "source": [
    "y = str(x)"
   ]
  },
  {
   "cell_type": "code",
   "execution_count": 17,
   "id": "428a4515-e39b-4806-afbf-62ae51a67a68",
   "metadata": {},
   "outputs": [
    {
     "name": "stdout",
     "output_type": "stream",
     "text": [
      "9\n"
     ]
    }
   ],
   "source": [
    "print(y)"
   ]
  },
  {
   "cell_type": "code",
   "execution_count": 18,
   "id": "836dbce2-b2bc-48dc-87b8-bdaf1d04064a",
   "metadata": {},
   "outputs": [
    {
     "data": {
      "text/plain": [
       "str"
      ]
     },
     "execution_count": 18,
     "metadata": {},
     "output_type": "execute_result"
    }
   ],
   "source": [
    "type(y)"
   ]
  },
  {
   "cell_type": "code",
   "execution_count": 19,
   "id": "688eff13-fc94-40a9-b713-a499fe656d4e",
   "metadata": {},
   "outputs": [],
   "source": [
    "# list(),tuple(),set(),dict() : are the other functions which are yoused to convert data type in list, tuple,set,and dictionary respectively"
   ]
  },
  {
   "cell_type": "code",
   "execution_count": null,
   "id": "ad9bf6be-d9e0-4853-9532-91119619d934",
   "metadata": {},
   "outputs": [],
   "source": []
  },
  {
   "cell_type": "code",
   "execution_count": 20,
   "id": "929a2074-4833-4c0b-af97-ff3d98e9b4a8",
   "metadata": {},
   "outputs": [],
   "source": [
    "#Q4"
   ]
  },
  {
   "cell_type": "code",
   "execution_count": 21,
   "id": "440c4fdb-4e04-4657-8d6d-e5fc8225cb05",
   "metadata": {},
   "outputs": [],
   "source": [
    "a =\" jay shri ram \""
   ]
  },
  {
   "cell_type": "code",
   "execution_count": 22,
   "id": "7934915d-7c12-4f95-afd4-56062ea8bad8",
   "metadata": {},
   "outputs": [
    {
     "name": "stdout",
     "output_type": "stream",
     "text": [
      " jay shri ram \n"
     ]
    }
   ],
   "source": [
    "print(a)"
   ]
  },
  {
   "cell_type": "code",
   "execution_count": null,
   "id": "7215a738-f9cf-4bfc-896b-4ec1c03a7465",
   "metadata": {},
   "outputs": [],
   "source": []
  },
  {
   "cell_type": "code",
   "execution_count": 23,
   "id": "f99572a8-a856-44e7-8a9f-1f60178d7a82",
   "metadata": {},
   "outputs": [],
   "source": [
    "#Q5"
   ]
  },
  {
   "cell_type": "code",
   "execution_count": 24,
   "id": "1c19a26f-cda6-4984-a5e2-308e8f4cd977",
   "metadata": {},
   "outputs": [],
   "source": [
    "my_list = [1, 2, 3, 4, 5]"
   ]
  },
  {
   "cell_type": "code",
   "execution_count": 26,
   "id": "80e09fcb-1c30-4992-a984-14349c5909e3",
   "metadata": {},
   "outputs": [
    {
     "data": {
      "text/plain": [
       "[2, 3]"
      ]
     },
     "execution_count": 26,
     "metadata": {},
     "output_type": "execute_result"
    }
   ],
   "source": [
    "my_list[1:3]"
   ]
  },
  {
   "cell_type": "code",
   "execution_count": null,
   "id": "9dc3cf8b-9556-43f2-b1c7-aff080ab44e0",
   "metadata": {},
   "outputs": [],
   "source": []
  },
  {
   "cell_type": "code",
   "execution_count": 27,
   "id": "b78688e8-1cab-44dd-a0fd-7e267cba39ca",
   "metadata": {},
   "outputs": [],
   "source": [
    "#Q6"
   ]
  },
  {
   "cell_type": "code",
   "execution_count": 28,
   "id": "a31a0675-c009-4fe4-b8ad-7a3c8599a609",
   "metadata": {},
   "outputs": [],
   "source": [
    "#in mathematics x = 5 + 9i is a complex number "
   ]
  },
  {
   "cell_type": "code",
   "execution_count": 29,
   "id": "b18687d2-81c2-4e42-aa5b-de512fb591f4",
   "metadata": {},
   "outputs": [],
   "source": [
    "# in python x = 5 + 9j is a complex number"
   ]
  },
  {
   "cell_type": "code",
   "execution_count": 30,
   "id": "efe71671-613b-4b86-8755-5ca0d49c19f3",
   "metadata": {},
   "outputs": [],
   "source": [
    "x = 5 + 9j"
   ]
  },
  {
   "cell_type": "code",
   "execution_count": 31,
   "id": "c19d17ed-e8f8-4594-8db1-cf47e62c45c1",
   "metadata": {},
   "outputs": [
    {
     "data": {
      "text/plain": [
       "complex"
      ]
     },
     "execution_count": 31,
     "metadata": {},
     "output_type": "execute_result"
    }
   ],
   "source": [
    "type(x)"
   ]
  },
  {
   "cell_type": "code",
   "execution_count": null,
   "id": "1a88b56b-0512-49f3-9985-24b1c3d60e44",
   "metadata": {},
   "outputs": [],
   "source": []
  },
  {
   "cell_type": "code",
   "execution_count": 32,
   "id": "16038326-61aa-4fcb-aa6d-da8593d6eaa1",
   "metadata": {},
   "outputs": [],
   "source": [
    "#Q7"
   ]
  },
  {
   "cell_type": "code",
   "execution_count": 33,
   "id": "5c9030d2-43df-4ce3-8cc6-eaa4bc6c6aea",
   "metadata": {},
   "outputs": [],
   "source": [
    "age = 25"
   ]
  },
  {
   "cell_type": "code",
   "execution_count": 34,
   "id": "9b41385b-8d5c-4b8f-a293-56fe53a5e167",
   "metadata": {},
   "outputs": [
    {
     "name": "stdout",
     "output_type": "stream",
     "text": [
      "25\n"
     ]
    }
   ],
   "source": [
    "print(age)"
   ]
  },
  {
   "cell_type": "code",
   "execution_count": null,
   "id": "b8e4a083-a269-4a67-a83f-1b12ff4a04a7",
   "metadata": {},
   "outputs": [],
   "source": []
  },
  {
   "cell_type": "code",
   "execution_count": 35,
   "id": "00a48944-1f33-45b5-aefc-f8c29cdbbc21",
   "metadata": {},
   "outputs": [],
   "source": [
    "#Q8"
   ]
  },
  {
   "cell_type": "code",
   "execution_count": 36,
   "id": "b706cd8b-856b-4084-ba72-1335ad26858c",
   "metadata": {},
   "outputs": [],
   "source": [
    "price=9.99"
   ]
  },
  {
   "cell_type": "code",
   "execution_count": 37,
   "id": "022dec3a-483c-47bd-8603-40a74d950fe1",
   "metadata": {},
   "outputs": [
    {
     "data": {
      "text/plain": [
       "float"
      ]
     },
     "execution_count": 37,
     "metadata": {},
     "output_type": "execute_result"
    }
   ],
   "source": [
    "type(price)"
   ]
  },
  {
   "cell_type": "code",
   "execution_count": null,
   "id": "517301ed-1277-405f-9e3c-182379f051d5",
   "metadata": {},
   "outputs": [],
   "source": []
  },
  {
   "cell_type": "code",
   "execution_count": 38,
   "id": "7798c35c-0025-4b8f-a27e-7cd6ed32a2a8",
   "metadata": {},
   "outputs": [],
   "source": [
    "#Q9"
   ]
  },
  {
   "cell_type": "code",
   "execution_count": 39,
   "id": "58de03ed-6f46-4d40-9bb4-405e1c9fcc72",
   "metadata": {},
   "outputs": [],
   "source": [
    "name = \" Ritesh Indrabhan Sangokar\""
   ]
  },
  {
   "cell_type": "code",
   "execution_count": 40,
   "id": "51518d19-0135-4b23-bb2a-c18d87d39b7c",
   "metadata": {},
   "outputs": [
    {
     "name": "stdout",
     "output_type": "stream",
     "text": [
      " Ritesh Indrabhan Sangokar\n"
     ]
    }
   ],
   "source": [
    "print(name)"
   ]
  },
  {
   "cell_type": "code",
   "execution_count": null,
   "id": "120d6bc6-962f-4ac5-b451-e16f9c45e865",
   "metadata": {},
   "outputs": [],
   "source": []
  },
  {
   "cell_type": "code",
   "execution_count": 41,
   "id": "c40487a1-99b6-4376-8702-d3512954302b",
   "metadata": {},
   "outputs": [],
   "source": [
    "#Q10"
   ]
  },
  {
   "cell_type": "code",
   "execution_count": 42,
   "id": "d9cfeb64-1ad4-4047-baf0-e4f7bd64f430",
   "metadata": {},
   "outputs": [],
   "source": [
    "string = \"hallo world\""
   ]
  },
  {
   "cell_type": "code",
   "execution_count": 45,
   "id": "e08a5b77-c3e6-45af-8c61-61af50499cdc",
   "metadata": {},
   "outputs": [
    {
     "data": {
      "text/plain": [
       "' world'"
      ]
     },
     "execution_count": 45,
     "metadata": {},
     "output_type": "execute_result"
    }
   ],
   "source": [
    "string[5:11]"
   ]
  },
  {
   "cell_type": "code",
   "execution_count": null,
   "id": "f659a27c-65b6-44ab-bcef-4a74a4879bb6",
   "metadata": {},
   "outputs": [],
   "source": []
  },
  {
   "cell_type": "code",
   "execution_count": 46,
   "id": "8728f02f-f57b-4814-806d-1427a0a8d7a5",
   "metadata": {},
   "outputs": [],
   "source": [
    "#Q11"
   ]
  },
  {
   "cell_type": "code",
   "execution_count": 47,
   "id": "7649d1b9-6d96-47ca-9c70-d5503512769f",
   "metadata": {},
   "outputs": [],
   "source": [
    "is_student = True"
   ]
  },
  {
   "cell_type": "code",
   "execution_count": null,
   "id": "8fa5c658-504c-494f-b688-2c70144789c3",
   "metadata": {},
   "outputs": [],
   "source": []
  }
 ],
 "metadata": {
  "kernelspec": {
   "display_name": "Python 3 (ipykernel)",
   "language": "python",
   "name": "python3"
  },
  "language_info": {
   "codemirror_mode": {
    "name": "ipython",
    "version": 3
   },
   "file_extension": ".py",
   "mimetype": "text/x-python",
   "name": "python",
   "nbconvert_exporter": "python",
   "pygments_lexer": "ipython3",
   "version": "3.10.8"
  }
 },
 "nbformat": 4,
 "nbformat_minor": 5
}
