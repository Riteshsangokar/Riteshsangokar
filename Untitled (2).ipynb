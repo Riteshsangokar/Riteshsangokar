{
 "cells": [
  {
   "cell_type": "code",
   "execution_count": 1,
   "id": "d3047c4c-d93e-4c18-b571-85a8e31f91cf",
   "metadata": {},
   "outputs": [],
   "source": [
    "# Q1"
   ]
  },
  {
   "cell_type": "code",
   "execution_count": 2,
   "id": "b3d6bc5b-8b06-41b1-9714-a12e6d536e35",
   "metadata": {},
   "outputs": [],
   "source": [
    "string = \"this is a string\""
   ]
  },
  {
   "cell_type": "code",
   "execution_count": 3,
   "id": "7bc96ede-73bf-40ae-9013-eddf36342c61",
   "metadata": {},
   "outputs": [],
   "source": [
    "list = [1,2,3,4,True,4.5,\"shriram\"]"
   ]
  },
  {
   "cell_type": "code",
   "execution_count": 4,
   "id": "36c98d46-85eb-4223-8444-32f381118797",
   "metadata": {},
   "outputs": [],
   "source": [
    "float= 4.5"
   ]
  },
  {
   "cell_type": "code",
   "execution_count": 5,
   "id": "14e5ef6c-3bac-493f-a304-ef8d99c9cd4d",
   "metadata": {},
   "outputs": [],
   "source": [
    "tuple=( 1,2,3,4 )"
   ]
  },
  {
   "cell_type": "code",
   "execution_count": 6,
   "id": "22d1729f-6cd6-4c21-871c-ef0f216a1a76",
   "metadata": {},
   "outputs": [
    {
     "data": {
      "text/plain": [
       "tuple"
      ]
     },
     "execution_count": 6,
     "metadata": {},
     "output_type": "execute_result"
    }
   ],
   "source": [
    "type(tuple)"
   ]
  },
  {
   "cell_type": "code",
   "execution_count": 7,
   "id": "eeb4e4bd-fdc1-4049-94bf-7956cc2e5da2",
   "metadata": {},
   "outputs": [],
   "source": [
    "#Q2"
   ]
  },
  {
   "cell_type": "code",
   "execution_count": 9,
   "id": "15b7ed76-7c97-47fc-9186-f4f4d83ffcbe",
   "metadata": {},
   "outputs": [],
   "source": [
    "var1 = ' '"
   ]
  },
  {
   "cell_type": "code",
   "execution_count": 10,
   "id": "014331bb-a00d-472d-99e2-5f11d77d9c1d",
   "metadata": {},
   "outputs": [
    {
     "data": {
      "text/plain": [
       "str"
      ]
     },
     "execution_count": 10,
     "metadata": {},
     "output_type": "execute_result"
    }
   ],
   "source": [
    "type(var1)"
   ]
  },
  {
   "cell_type": "code",
   "execution_count": null,
   "id": "0f9179eb-bc2f-4654-85b4-7fa268284ae5",
   "metadata": {},
   "outputs": [],
   "source": [
    "#var2 = '[ DS , ML , Python]'"
   ]
  },
  {
   "cell_type": "code",
   "execution_count": 12,
   "id": "1cd3b349-bb93-4782-9ac6-8063ce755426",
   "metadata": {},
   "outputs": [],
   "source": [
    "var2 = '[ DS , ML , Python]'"
   ]
  },
  {
   "cell_type": "code",
   "execution_count": 14,
   "id": "731baa9f-8a82-4c17-87e4-24b6a826cf05",
   "metadata": {},
   "outputs": [
    {
     "data": {
      "text/plain": [
       "str"
      ]
     },
     "execution_count": 14,
     "metadata": {},
     "output_type": "execute_result"
    }
   ],
   "source": [
    "type(var2)"
   ]
  },
  {
   "cell_type": "code",
   "execution_count": 15,
   "id": "52263a9a-fcae-4233-874d-21e85e316093",
   "metadata": {},
   "outputs": [],
   "source": [
    "#var2 is a string variable that contains a list of strings."
   ]
  },
  {
   "cell_type": "code",
   "execution_count": 16,
   "id": "932c4686-6aeb-4c68-b34f-409400e50b78",
   "metadata": {},
   "outputs": [],
   "source": [
    "var3 = [ 'DS' , 'ML' , 'Python' ]"
   ]
  },
  {
   "cell_type": "code",
   "execution_count": 17,
   "id": "71fdf76c-130b-4b9b-a359-8490d9cd13c8",
   "metadata": {},
   "outputs": [
    {
     "data": {
      "text/plain": [
       "list"
      ]
     },
     "execution_count": 17,
     "metadata": {},
     "output_type": "execute_result"
    }
   ],
   "source": [
    "type(var3)"
   ]
  },
  {
   "cell_type": "code",
   "execution_count": 18,
   "id": "48166b27-d7ca-4785-8ff4-3639e0c6b4b6",
   "metadata": {},
   "outputs": [],
   "source": [
    "#var3 is a list variable that contains three strings."
   ]
  },
  {
   "cell_type": "code",
   "execution_count": 19,
   "id": "1db8b0b6-4247-4dc6-b23f-e3ced1e5e4a7",
   "metadata": {},
   "outputs": [],
   "source": [
    "var4 = 1."
   ]
  },
  {
   "cell_type": "code",
   "execution_count": 20,
   "id": "97a299e6-ea38-4597-b9fe-e4cbc5f36779",
   "metadata": {},
   "outputs": [
    {
     "data": {
      "text/plain": [
       "float"
      ]
     },
     "execution_count": 20,
     "metadata": {},
     "output_type": "execute_result"
    }
   ],
   "source": [
    "type(var4)"
   ]
  },
  {
   "cell_type": "code",
   "execution_count": 21,
   "id": "4a3d0e0f-5bc5-4c98-84b7-f75d02254099",
   "metadata": {},
   "outputs": [],
   "source": [
    "#var4 is an integer variable that contains the number 1."
   ]
  },
  {
   "cell_type": "code",
   "execution_count": null,
   "id": "aceec9f3-c73d-4aeb-8d8e-67442083e088",
   "metadata": {},
   "outputs": [],
   "source": []
  },
  {
   "cell_type": "code",
   "execution_count": 22,
   "id": "474c078c-bbe1-4dff-809c-48c4408f7549",
   "metadata": {},
   "outputs": [],
   "source": [
    "#Q3"
   ]
  },
  {
   "cell_type": "code",
   "execution_count": 23,
   "id": "11e57c2b-a196-4e0d-85cc-fd4951403aa3",
   "metadata": {},
   "outputs": [],
   "source": [
    "#/ is the division operator. It divides the left operand by the right operand and returns the result as a floating-point number. For example, the expression 10 / 2 will evaluate to 5.0."
   ]
  },
  {
   "cell_type": "code",
   "execution_count": 24,
   "id": "e2d711fe-a96d-4c2e-802f-a75622623b93",
   "metadata": {},
   "outputs": [],
   "source": [
    "a= 10/2"
   ]
  },
  {
   "cell_type": "code",
   "execution_count": 25,
   "id": "4348dd70-f5a3-4728-9ae9-55395fb97b38",
   "metadata": {},
   "outputs": [
    {
     "data": {
      "text/plain": [
       "5.0"
      ]
     },
     "execution_count": 25,
     "metadata": {},
     "output_type": "execute_result"
    }
   ],
   "source": [
    "a"
   ]
  },
  {
   "cell_type": "code",
   "execution_count": null,
   "id": "0a0e3f46-7ec6-4438-87f3-3ac5ff71dd47",
   "metadata": {},
   "outputs": [],
   "source": []
  },
  {
   "cell_type": "code",
   "execution_count": 26,
   "id": "0c610adb-6beb-4d54-b3ad-35cff98eef1c",
   "metadata": {},
   "outputs": [],
   "source": [
    "#% is the modulus operator. It returns the remainder of the division of the left operand by the right operand. For example, the expression 10 % 2 will evaluate to 0."
   ]
  },
  {
   "cell_type": "code",
   "execution_count": 27,
   "id": "755df1ef-71a3-4004-a830-606d1911db4d",
   "metadata": {},
   "outputs": [],
   "source": [
    "a=10%2"
   ]
  },
  {
   "cell_type": "code",
   "execution_count": 28,
   "id": "f2dca2e8-da18-4593-b616-4a47d8a7bd36",
   "metadata": {},
   "outputs": [
    {
     "data": {
      "text/plain": [
       "0"
      ]
     },
     "execution_count": 28,
     "metadata": {},
     "output_type": "execute_result"
    }
   ],
   "source": [
    "a"
   ]
  },
  {
   "cell_type": "code",
   "execution_count": null,
   "id": "ba222a84-145a-4410-9b6e-8a26b728f82d",
   "metadata": {},
   "outputs": [],
   "source": []
  },
  {
   "cell_type": "code",
   "execution_count": 29,
   "id": "46692fca-24be-44ac-bb68-fcb5ad5ed624",
   "metadata": {},
   "outputs": [],
   "source": [
    "#// is the floor division operator. It divides the left operand by the right operand and returns the result as an integer, dropping any decimal places. For example, the expression 10 // 2 will evaluate to 5."
   ]
  },
  {
   "cell_type": "code",
   "execution_count": 30,
   "id": "d4a5a219-582a-4fb7-81b6-817fc587067d",
   "metadata": {},
   "outputs": [],
   "source": [
    "a=10//3"
   ]
  },
  {
   "cell_type": "code",
   "execution_count": 31,
   "id": "1ca90270-80d3-4880-ba67-9a81ee1908b0",
   "metadata": {},
   "outputs": [
    {
     "data": {
      "text/plain": [
       "3"
      ]
     },
     "execution_count": 31,
     "metadata": {},
     "output_type": "execute_result"
    }
   ],
   "source": [
    "a"
   ]
  },
  {
   "cell_type": "code",
   "execution_count": null,
   "id": "ba965690-d661-44b3-aba6-a5d47bc0b661",
   "metadata": {},
   "outputs": [],
   "source": []
  },
  {
   "cell_type": "code",
   "execution_count": 32,
   "id": "94707207-1e80-4915-baa3-6db8516fc8e8",
   "metadata": {},
   "outputs": [],
   "source": [
    "#** is the exponentiation operator. It raises the left operand to the power of the right operand. For example, the expression 2 ** 3 will evaluate to 8"
   ]
  },
  {
   "cell_type": "code",
   "execution_count": 33,
   "id": "8d3b2b34-135a-4493-b16e-e4105771a96a",
   "metadata": {},
   "outputs": [
    {
     "data": {
      "text/plain": [
       "8"
      ]
     },
     "execution_count": 33,
     "metadata": {},
     "output_type": "execute_result"
    }
   ],
   "source": [
    "2**3"
   ]
  },
  {
   "cell_type": "code",
   "execution_count": null,
   "id": "b3b84194-f316-44ff-9cd7-658a781ea334",
   "metadata": {},
   "outputs": [],
   "source": []
  },
  {
   "cell_type": "code",
   "execution_count": null,
   "id": "7f8bd621-e65e-41f8-962a-2a914fb7ad9b",
   "metadata": {},
   "outputs": [],
   "source": [
    "#Q4"
   ]
  },
  {
   "cell_type": "code",
   "execution_count": 34,
   "id": "83fa527f-8d27-4396-9a78-99365fda4094",
   "metadata": {},
   "outputs": [],
   "source": [
    "list_1=[1,2,3,4,True,4.5,\"krisna\",(9,9),{\"ram\",\"krisna\",\"hari\"},4j]"
   ]
  },
  {
   "cell_type": "code",
   "execution_count": 36,
   "id": "88d90e3f-3ec4-4457-827b-d9efa35e5839",
   "metadata": {},
   "outputs": [
    {
     "data": {
      "text/plain": [
       "10"
      ]
     },
     "execution_count": 36,
     "metadata": {},
     "output_type": "execute_result"
    }
   ],
   "source": [
    "len(list_1)"
   ]
  },
  {
   "cell_type": "code",
   "execution_count": 38,
   "id": "4a29e3b7-3e84-42f4-95e7-2f72ce1d9bdc",
   "metadata": {},
   "outputs": [
    {
     "name": "stdout",
     "output_type": "stream",
     "text": [
      "Element: 1, Data type: <class 'int'>\n",
      "Element: 2, Data type: <class 'int'>\n",
      "Element: 3, Data type: <class 'int'>\n",
      "Element: 4, Data type: <class 'int'>\n",
      "Element: True, Data type: <class 'bool'>\n",
      "Element: 4.5, Data type: <class 'float'>\n",
      "Element: krisna, Data type: <class 'str'>\n",
      "Element: (9, 9), Data type: <class 'tuple'>\n",
      "Element: {'ram', 'hari', 'krisna'}, Data type: <class 'set'>\n",
      "Element: 4j, Data type: <class 'complex'>\n"
     ]
    }
   ],
   "source": [
    "for element in list_1:\n",
    "    print(f\"Element: {element}, Data type: {type(element)}\")"
   ]
  },
  {
   "cell_type": "code",
   "execution_count": null,
   "id": "77b4200e-02d0-4b84-9003-72e853da89e8",
   "metadata": {},
   "outputs": [],
   "source": []
  },
  {
   "cell_type": "code",
   "execution_count": 39,
   "id": "a3a04b53-a3ff-4afd-a61d-2e6e5c2c2694",
   "metadata": {},
   "outputs": [],
   "source": [
    "#Q5"
   ]
  },
  {
   "cell_type": "code",
   "execution_count": 48,
   "id": "7322ba95-884e-4b48-a683-0f66447849d6",
   "metadata": {},
   "outputs": [
    {
     "name": "stdin",
     "output_type": "stream",
     "text": [
      "Enter the value of A:  4\n",
      "Enter the value of B:  5\n"
     ]
    },
    {
     "name": "stdout",
     "output_type": "stream",
     "text": [
      "4 is not purely divisible by 5.\n"
     ]
    }
   ],
   "source": [
    "def count_divisions(A, B):\n",
    "    count = 0\n",
    "\n",
    "    # Check if B is not zero, otherwise, division by zero is not allowed\n",
    "    if B != 0:\n",
    "        while A % B == 0:\n",
    "            A = A // B\n",
    "            count += 1\n",
    "\n",
    "    return count\n",
    "\n",
    "# Input values for A and B\n",
    "A = int(input(\"Enter the value of A: \"))\n",
    "B = int(input(\"Enter the value of B: \"))\n",
    "\n",
    "result = count_divisions(A, B)\n",
    "\n",
    "if result > 0:\n",
    "    print(f\"{A} is purely divisible by {B}. It can be divided {result} times.\")\n",
    "else:\n",
    "    print(f\"{A} is not purely divisible by {B}.\")\n"
   ]
  },
  {
   "cell_type": "code",
   "execution_count": null,
   "id": "318bde65-e548-4c46-a74d-e2308aee3bb8",
   "metadata": {},
   "outputs": [],
   "source": []
  },
  {
   "cell_type": "code",
   "execution_count": null,
   "id": "e17e50c6-6106-4c38-98f6-90f72d6afbe3",
   "metadata": {},
   "outputs": [],
   "source": [
    "#Q6"
   ]
  },
  {
   "cell_type": "code",
   "execution_count": 49,
   "id": "867cad8c-3a45-49ee-b157-6c60d64b3170",
   "metadata": {},
   "outputs": [
    {
     "name": "stdout",
     "output_type": "stream",
     "text": [
      "1 is not divisible by 3.\n",
      "2 is not divisible by 3.\n",
      "3 is divisible by 3.\n",
      "4 is not divisible by 3.\n",
      "5 is not divisible by 3.\n",
      "6 is divisible by 3.\n",
      "7 is not divisible by 3.\n",
      "8 is not divisible by 3.\n",
      "9 is divisible by 3.\n",
      "10 is not divisible by 3.\n",
      "11 is not divisible by 3.\n",
      "12 is divisible by 3.\n",
      "13 is not divisible by 3.\n",
      "14 is not divisible by 3.\n",
      "15 is divisible by 3.\n",
      "16 is not divisible by 3.\n",
      "17 is not divisible by 3.\n",
      "18 is divisible by 3.\n",
      "19 is not divisible by 3.\n",
      "20 is not divisible by 3.\n",
      "21 is divisible by 3.\n",
      "22 is not divisible by 3.\n",
      "23 is not divisible by 3.\n",
      "24 is divisible by 3.\n",
      "25 is not divisible by 3.\n"
     ]
    }
   ],
   "source": [
    "# Create a list containing 25 integer type data\n",
    "data_list = [i for i in range(1, 26)]  # This will create a list from 1 to 25\n",
    "\n",
    "# Using for loop and if-else condition to check divisibility by 3\n",
    "for num in data_list:\n",
    "    if num % 3 == 0:\n",
    "        print(f\"{num} is divisible by 3.\")\n",
    "    else:\n",
    "        print(f\"{num} is not divisible by 3.\")\n"
   ]
  },
  {
   "cell_type": "code",
   "execution_count": null,
   "id": "2a1e1c88-1810-465c-8946-1cd633dd7dc3",
   "metadata": {},
   "outputs": [],
   "source": []
  },
  {
   "cell_type": "code",
   "execution_count": 50,
   "id": "a738e18c-c744-4652-aaca-3e9933c286fa",
   "metadata": {},
   "outputs": [],
   "source": [
    "#Q7"
   ]
  },
  {
   "cell_type": "code",
   "execution_count": 52,
   "id": "08eda667-c0da-418f-818d-82dad2bb1039",
   "metadata": {},
   "outputs": [],
   "source": [
    "#Immutable Data Types:\n",
    "#Immutable data types are those whose values cannot be changed after they are created. Any operation that appears to modify an immutable object actually creates a new object with the updated value. Immutable objects are considered safe because their values cannot be accidentally changed."
   ]
  },
  {
   "cell_type": "code",
   "execution_count": 53,
   "id": "32eebaa3-4110-48de-a4c1-060fbca4f57f",
   "metadata": {},
   "outputs": [],
   "source": [
    "#Examples of immutable data types in Python:"
   ]
  },
  {
   "cell_type": "code",
   "execution_count": 54,
   "id": "aebdf760-4908-403c-a9c4-9d72d1a2c9ad",
   "metadata": {},
   "outputs": [
    {
     "name": "stdout",
     "output_type": "stream",
     "text": [
      "Hello World\n",
      "Hello\n"
     ]
    }
   ],
   "source": [
    "s = \"Hello\"\n",
    "t = s\n",
    "s = s + \" World\"\n",
    "print(s) \n",
    "print(t)  \n"
   ]
  },
  {
   "cell_type": "code",
   "execution_count": null,
   "id": "6c813f1c-3411-4f56-ba17-7423a0b6f488",
   "metadata": {},
   "outputs": [],
   "source": [
    "#Mutable Data Types:\n",
    "#"
   ]
  }
 ],
 "metadata": {
  "kernelspec": {
   "display_name": "Python 3 (ipykernel)",
   "language": "python",
   "name": "python3"
  },
  "language_info": {
   "codemirror_mode": {
    "name": "ipython",
    "version": 3
   },
   "file_extension": ".py",
   "mimetype": "text/x-python",
   "name": "python",
   "nbconvert_exporter": "python",
   "pygments_lexer": "ipython3",
   "version": "3.10.8"
  }
 },
 "nbformat": 4,
 "nbformat_minor": 5
}
